{
 "cells": [
  {
   "cell_type": "code",
   "execution_count": 2,
   "metadata": {},
   "outputs": [],
   "source": [
    "import pandas as pd\n",
    "import numpy as np\n",
    "import requests"
   ]
  },
  {
   "cell_type": "code",
   "execution_count": null,
   "metadata": {},
   "outputs": [],
   "source": [
    "response=requests.get('https://api.themoviedb.org/3/movie/top_rated?api_key=8265bd1679663a7ea12ac168da84d2e8&language=en-US&page=1')"
   ]
  },
  {
   "cell_type": "code",
   "execution_count": null,
   "metadata": {},
   "outputs": [],
   "source": [
    "df=pd.DataFrame(response.json()['results'])"
   ]
  },
  {
   "cell_type": "code",
   "execution_count": null,
   "metadata": {},
   "outputs": [],
   "source": [
    "df.head()"
   ]
  },
  {
   "cell_type": "code",
   "execution_count": null,
   "metadata": {},
   "outputs": [],
   "source": [
    "for i in range(1,429):\n",
    "    response=requests.get('https://api.themoviedb.org/3/movie/top_rated?api_key=8265bd1679663a7ea12ac168da84d2e8&language=en-US&page={}'.format(i))\n",
    "    temp_df=pd.DataFrame(response.json()['results'][['id','title']])\n",
    "    df=df.append(temp_df,ignore_index=True)"
   ]
  },
  {
   "cell_type": "code",
   "execution_count": null,
   "metadata": {},
   "outputs": [],
   "source": [
    "df.to_csv('movies.csv')"
   ]
  },
  {
   "cell_type": "code",
   "execution_count": 17,
   "metadata": {},
   "outputs": [],
   "source": [
    "import requests\n",
    "\n",
    "url = \"https://imdb-top-100-movies.p.rapidapi.com/\"\n",
    "\n",
    "headers = {\n",
    "\t\"x-rapidapi-key\": \"919d42aad8msh141809834802b44p1ca286jsne4d8c87fcfa7\",\n",
    "\t\"x-rapidapi-host\": \"imdb-top-100-movies.p.rapidapi.com\"\n",
    "}\n",
    "\n",
    "response = requests.get(url, headers=headers)\n",
    "\n",
    "df=pd.DataFrame(response.json())"
   ]
  },
  {
   "cell_type": "code",
   "execution_count": 18,
   "metadata": {},
   "outputs": [],
   "source": [
    "df.to_csv('movies.csv')"
   ]
  },
  {
   "cell_type": "code",
   "execution_count": 30,
   "metadata": {},
   "outputs": [
    {
     "data": {
      "text/html": [
       "<div>\n",
       "<style scoped>\n",
       "    .dataframe tbody tr th:only-of-type {\n",
       "        vertical-align: middle;\n",
       "    }\n",
       "\n",
       "    .dataframe tbody tr th {\n",
       "        vertical-align: top;\n",
       "    }\n",
       "\n",
       "    .dataframe thead th {\n",
       "        text-align: right;\n",
       "    }\n",
       "</style>\n",
       "<table border=\"1\" class=\"dataframe\">\n",
       "  <thead>\n",
       "    <tr style=\"text-align: right;\">\n",
       "      <th></th>\n",
       "      <th>thumbnails</th>\n",
       "    </tr>\n",
       "  </thead>\n",
       "  <tbody>\n",
       "    <tr>\n",
       "      <th>0</th>\n",
       "      <td>{'height': 900, 'url': 'https://yt3.googleuser...</td>\n",
       "    </tr>\n",
       "  </tbody>\n",
       "</table>\n",
       "</div>"
      ],
      "text/plain": [
       "                                          thumbnails\n",
       "0  {'height': 900, 'url': 'https://yt3.googleuser..."
      ]
     },
     "execution_count": 30,
     "metadata": {},
     "output_type": "execute_result"
    }
   ],
   "source": [
    "import requests\n",
    "\n",
    "url = \"https://youtube-search-and-download.p.rapidapi.com/channel/about\"\n",
    "\n",
    "querystring = {\"id\":\"UCE_M8A5yxnLfW0KghEeajjw\"}\n",
    "\n",
    "headers = {\n",
    "\t\"x-rapidapi-key\": \"919d42aad8msh141809834802b44p1ca286jsne4d8c87fcfa7\",\n",
    "\t\"x-rapidapi-host\": \"youtube-search-and-download.p.rapidapi.com\"\n",
    "}\n",
    "\n",
    "response = requests.get(url, headers=headers, params=querystring)\n",
    "\n",
    "pd.DataFrame(response.json()['avatar'])"
   ]
  },
  {
   "cell_type": "code",
   "execution_count": 31,
   "metadata": {},
   "outputs": [
    {
     "name": "stdout",
     "output_type": "stream",
     "text": [
      "{'created': 1717637483, 'usage': {'completion_tokens': 9, 'prompt_tokens': 8, 'total_tokens': 17}, 'model': 'gpt-3.5-turbo', 'id': 'chatcmpl-9WwGIxt3w4FdyMszehiXgpTEpEvF2', 'choices': [{'finish_reason': 'stop', 'index': 0, 'message': {'role': 'assistant', 'content': 'Hello! How can I assist you today?'}}], 'object': 'chat.completion'}\n"
     ]
    }
   ],
   "source": [
    "import requests\n",
    "\n",
    "url = \"https://chat-gpt26.p.rapidapi.com/\"\n",
    "\n",
    "payload = {\n",
    "\t\"model\": \"gpt-3.5-turbo\",\n",
    "\t\"messages\": [\n",
    "\t\t{\n",
    "\t\t\t\"role\": \"user\",\n",
    "\t\t\t\"content\": \"Hello\"\n",
    "\t\t}\n",
    "\t]\n",
    "}\n",
    "headers = {\n",
    "\t\"x-rapidapi-key\": \"919d42aad8msh141809834802b44p1ca286jsne4d8c87fcfa7\",\n",
    "\t\"x-rapidapi-host\": \"chat-gpt26.p.rapidapi.com\",\n",
    "\t\"Content-Type\": \"application/json\"\n",
    "}\n",
    "\n",
    "response = requests.post(url, json=payload, headers=headers)\n",
    "\n",
    "print(response.json())"
   ]
  },
  {
   "cell_type": "code",
   "execution_count": 34,
   "metadata": {},
   "outputs": [],
   "source": [
    "import requests\n",
    "\n",
    "url = \"https://seo-keyword-research.p.rapidapi.com/keynew.php\"\n",
    "\n",
    "querystring = {\"keyword\":\"email marketing\",\"country\":\"in\"}\n",
    "\n",
    "headers = {\n",
    "\t\"x-rapidapi-key\": \"919d42aad8msh141809834802b44p1ca286jsne4d8c87fcfa7\",\n",
    "\t\"x-rapidapi-host\": \"seo-keyword-research.p.rapidapi.com\"\n",
    "}\n",
    "\n",
    "response = requests.get(url, headers=headers, params=querystring)\n",
    "\n",
    "df=pd.DataFrame(response.json())"
   ]
  },
  {
   "cell_type": "code",
   "execution_count": 37,
   "metadata": {},
   "outputs": [],
   "source": [
    "df.to_csv('SEO_keyword_research.csv')"
   ]
  },
  {
   "cell_type": "code",
   "execution_count": 38,
   "metadata": {},
   "outputs": [
    {
     "data": {
      "text/html": [
       "<div>\n",
       "<style scoped>\n",
       "    .dataframe tbody tr th:only-of-type {\n",
       "        vertical-align: middle;\n",
       "    }\n",
       "\n",
       "    .dataframe tbody tr th {\n",
       "        vertical-align: top;\n",
       "    }\n",
       "\n",
       "    .dataframe thead th {\n",
       "        text-align: right;\n",
       "    }\n",
       "</style>\n",
       "<table border=\"1\" class=\"dataframe\">\n",
       "  <thead>\n",
       "    <tr style=\"text-align: right;\">\n",
       "      <th></th>\n",
       "      <th>Unnamed: 0</th>\n",
       "      <th>text</th>\n",
       "      <th>cpc</th>\n",
       "      <th>vol</th>\n",
       "      <th>v</th>\n",
       "      <th>competition</th>\n",
       "      <th>score</th>\n",
       "    </tr>\n",
       "  </thead>\n",
       "  <tbody>\n",
       "    <tr>\n",
       "      <th>0</th>\n",
       "      <td>0</td>\n",
       "      <td>email marketing</td>\n",
       "      <td>1.74</td>\n",
       "      <td>27100</td>\n",
       "      <td>27100</td>\n",
       "      <td>low</td>\n",
       "      <td>0.4350</td>\n",
       "    </tr>\n",
       "    <tr>\n",
       "      <th>1</th>\n",
       "      <td>1</td>\n",
       "      <td>emailing marketing</td>\n",
       "      <td>1.74</td>\n",
       "      <td>27100</td>\n",
       "      <td>27100</td>\n",
       "      <td>low</td>\n",
       "      <td>0.4350</td>\n",
       "    </tr>\n",
       "    <tr>\n",
       "      <th>2</th>\n",
       "      <td>2</td>\n",
       "      <td>marketing emails</td>\n",
       "      <td>1.44</td>\n",
       "      <td>22200</td>\n",
       "      <td>22200</td>\n",
       "      <td>low</td>\n",
       "      <td>0.3600</td>\n",
       "    </tr>\n",
       "    <tr>\n",
       "      <th>3</th>\n",
       "      <td>3</td>\n",
       "      <td>email templates</td>\n",
       "      <td>0.91</td>\n",
       "      <td>9900</td>\n",
       "      <td>9900</td>\n",
       "      <td>low</td>\n",
       "      <td>0.2275</td>\n",
       "    </tr>\n",
       "    <tr>\n",
       "      <th>4</th>\n",
       "      <td>4</td>\n",
       "      <td>what is email advertising</td>\n",
       "      <td>0.49</td>\n",
       "      <td>6600</td>\n",
       "      <td>6600</td>\n",
       "      <td>low</td>\n",
       "      <td>0.1225</td>\n",
       "    </tr>\n",
       "    <tr>\n",
       "      <th>...</th>\n",
       "      <td>...</td>\n",
       "      <td>...</td>\n",
       "      <td>...</td>\n",
       "      <td>...</td>\n",
       "      <td>...</td>\n",
       "      <td>...</td>\n",
       "      <td>...</td>\n",
       "    </tr>\n",
       "    <tr>\n",
       "      <th>113</th>\n",
       "      <td>113</td>\n",
       "      <td>email campaign examples</td>\n",
       "      <td>1.18</td>\n",
       "      <td>210</td>\n",
       "      <td>210</td>\n",
       "      <td>low</td>\n",
       "      <td>0.2950</td>\n",
       "    </tr>\n",
       "    <tr>\n",
       "      <th>114</th>\n",
       "      <td>114</td>\n",
       "      <td>email campaigns examples</td>\n",
       "      <td>1.18</td>\n",
       "      <td>210</td>\n",
       "      <td>210</td>\n",
       "      <td>low</td>\n",
       "      <td>0.2950</td>\n",
       "    </tr>\n",
       "    <tr>\n",
       "      <th>115</th>\n",
       "      <td>115</td>\n",
       "      <td>campaign email examples</td>\n",
       "      <td>1.18</td>\n",
       "      <td>210</td>\n",
       "      <td>210</td>\n",
       "      <td>low</td>\n",
       "      <td>0.2950</td>\n",
       "    </tr>\n",
       "    <tr>\n",
       "      <th>116</th>\n",
       "      <td>116</td>\n",
       "      <td>email questions and answers</td>\n",
       "      <td>0.00</td>\n",
       "      <td>170</td>\n",
       "      <td>170</td>\n",
       "      <td>low</td>\n",
       "      <td>0.0000</td>\n",
       "    </tr>\n",
       "    <tr>\n",
       "      <th>117</th>\n",
       "      <td>117</td>\n",
       "      <td>email process interview questions</td>\n",
       "      <td>0.00</td>\n",
       "      <td>140</td>\n",
       "      <td>140</td>\n",
       "      <td>low</td>\n",
       "      <td>0.0000</td>\n",
       "    </tr>\n",
       "  </tbody>\n",
       "</table>\n",
       "<p>118 rows × 7 columns</p>\n",
       "</div>"
      ],
      "text/plain": [
       "     Unnamed: 0                               text   cpc    vol      v  \\\n",
       "0             0                    email marketing  1.74  27100  27100   \n",
       "1             1                 emailing marketing  1.74  27100  27100   \n",
       "2             2                   marketing emails  1.44  22200  22200   \n",
       "3             3                    email templates  0.91   9900   9900   \n",
       "4             4          what is email advertising  0.49   6600   6600   \n",
       "..          ...                                ...   ...    ...    ...   \n",
       "113         113            email campaign examples  1.18    210    210   \n",
       "114         114           email campaigns examples  1.18    210    210   \n",
       "115         115            campaign email examples  1.18    210    210   \n",
       "116         116        email questions and answers  0.00    170    170   \n",
       "117         117  email process interview questions  0.00    140    140   \n",
       "\n",
       "    competition   score  \n",
       "0           low  0.4350  \n",
       "1           low  0.4350  \n",
       "2           low  0.3600  \n",
       "3           low  0.2275  \n",
       "4           low  0.1225  \n",
       "..          ...     ...  \n",
       "113         low  0.2950  \n",
       "114         low  0.2950  \n",
       "115         low  0.2950  \n",
       "116         low  0.0000  \n",
       "117         low  0.0000  \n",
       "\n",
       "[118 rows x 7 columns]"
      ]
     },
     "execution_count": 38,
     "metadata": {},
     "output_type": "execute_result"
    }
   ],
   "source": [
    "pd.read_csv('SEO_keyword_research.csv')"
   ]
  },
  {
   "cell_type": "code",
   "execution_count": null,
   "metadata": {},
   "outputs": [],
   "source": []
  }
 ],
 "metadata": {
  "kernelspec": {
   "display_name": "Python 3",
   "language": "python",
   "name": "python3"
  },
  "language_info": {
   "codemirror_mode": {
    "name": "ipython",
    "version": 3
   },
   "file_extension": ".py",
   "mimetype": "text/x-python",
   "name": "python",
   "nbconvert_exporter": "python",
   "pygments_lexer": "ipython3",
   "version": "3.12.3"
  }
 },
 "nbformat": 4,
 "nbformat_minor": 2
}
