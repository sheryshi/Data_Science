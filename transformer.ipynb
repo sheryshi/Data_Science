{
 "cells": [
  {
   "cell_type": "code",
   "execution_count": 15,
   "metadata": {},
   "outputs": [],
   "source": [
    "import pandas as pd\n",
    "import numpy as np"
   ]
  },
  {
   "cell_type": "code",
   "execution_count": 16,
   "metadata": {},
   "outputs": [],
   "source": [
    "df=pd.read_csv('covid_toy.csv')"
   ]
  },
  {
   "cell_type": "code",
   "execution_count": 17,
   "metadata": {},
   "outputs": [
    {
     "data": {
      "text/plain": [
       "age           0\n",
       "gender        0\n",
       "fever        10\n",
       "cough         0\n",
       "city          0\n",
       "has_covid     0\n",
       "dtype: int64"
      ]
     },
     "execution_count": 17,
     "metadata": {},
     "output_type": "execute_result"
    }
   ],
   "source": [
    "df.isnull().sum()"
   ]
  },
  {
   "cell_type": "code",
   "execution_count": 18,
   "metadata": {},
   "outputs": [],
   "source": [
    "from sklearn.model_selection import train_test_split"
   ]
  },
  {
   "cell_type": "code",
   "execution_count": 19,
   "metadata": {},
   "outputs": [],
   "source": [
    "x_train,x_test,y_train,y_test=train_test_split(df.iloc[:,0:4],df.iloc[:,-1],test_size=0.2,random_state=42)"
   ]
  },
  {
   "cell_type": "code",
   "execution_count": 20,
   "metadata": {},
   "outputs": [],
   "source": [
    "from sklearn.compose import ColumnTransformer\n",
    "from sklearn.impute import SimpleImputer\n",
    "from sklearn.preprocessing import OrdinalEncoder\n",
    "from sklearn.preprocessing import OneHotEncoder"
   ]
  },
  {
   "cell_type": "code",
   "execution_count": 26,
   "metadata": {},
   "outputs": [],
   "source": [
    "transformer=ColumnTransformer(transformers=[('tnf1',SimpleImputer(),['fever']),('tnf2',OrdinalEncoder(categories=[['Mild','Strong']]),['cough']),('tnf3',OneHotEncoder(sparse_output=True,drop='first'),['gender'])],remainder='passthrough')"
   ]
  },
  {
   "cell_type": "code",
   "execution_count": 27,
   "metadata": {},
   "outputs": [
    {
     "data": {
      "text/html": [
       "<div>\n",
       "<style scoped>\n",
       "    .dataframe tbody tr th:only-of-type {\n",
       "        vertical-align: middle;\n",
       "    }\n",
       "\n",
       "    .dataframe tbody tr th {\n",
       "        vertical-align: top;\n",
       "    }\n",
       "\n",
       "    .dataframe thead th {\n",
       "        text-align: right;\n",
       "    }\n",
       "</style>\n",
       "<table border=\"1\" class=\"dataframe\">\n",
       "  <thead>\n",
       "    <tr style=\"text-align: right;\">\n",
       "      <th></th>\n",
       "      <th>age</th>\n",
       "      <th>gender</th>\n",
       "      <th>fever</th>\n",
       "      <th>cough</th>\n",
       "    </tr>\n",
       "  </thead>\n",
       "  <tbody>\n",
       "    <tr>\n",
       "      <th>55</th>\n",
       "      <td>81</td>\n",
       "      <td>Female</td>\n",
       "      <td>101.0</td>\n",
       "      <td>Mild</td>\n",
       "    </tr>\n",
       "    <tr>\n",
       "      <th>88</th>\n",
       "      <td>5</td>\n",
       "      <td>Female</td>\n",
       "      <td>100.0</td>\n",
       "      <td>Mild</td>\n",
       "    </tr>\n",
       "    <tr>\n",
       "      <th>26</th>\n",
       "      <td>19</td>\n",
       "      <td>Female</td>\n",
       "      <td>100.0</td>\n",
       "      <td>Mild</td>\n",
       "    </tr>\n",
       "    <tr>\n",
       "      <th>42</th>\n",
       "      <td>27</td>\n",
       "      <td>Male</td>\n",
       "      <td>100.0</td>\n",
       "      <td>Mild</td>\n",
       "    </tr>\n",
       "    <tr>\n",
       "      <th>69</th>\n",
       "      <td>73</td>\n",
       "      <td>Female</td>\n",
       "      <td>103.0</td>\n",
       "      <td>Mild</td>\n",
       "    </tr>\n",
       "    <tr>\n",
       "      <th>...</th>\n",
       "      <td>...</td>\n",
       "      <td>...</td>\n",
       "      <td>...</td>\n",
       "      <td>...</td>\n",
       "    </tr>\n",
       "    <tr>\n",
       "      <th>60</th>\n",
       "      <td>24</td>\n",
       "      <td>Female</td>\n",
       "      <td>102.0</td>\n",
       "      <td>Strong</td>\n",
       "    </tr>\n",
       "    <tr>\n",
       "      <th>71</th>\n",
       "      <td>75</td>\n",
       "      <td>Female</td>\n",
       "      <td>104.0</td>\n",
       "      <td>Strong</td>\n",
       "    </tr>\n",
       "    <tr>\n",
       "      <th>14</th>\n",
       "      <td>51</td>\n",
       "      <td>Male</td>\n",
       "      <td>104.0</td>\n",
       "      <td>Mild</td>\n",
       "    </tr>\n",
       "    <tr>\n",
       "      <th>92</th>\n",
       "      <td>82</td>\n",
       "      <td>Female</td>\n",
       "      <td>102.0</td>\n",
       "      <td>Strong</td>\n",
       "    </tr>\n",
       "    <tr>\n",
       "      <th>51</th>\n",
       "      <td>11</td>\n",
       "      <td>Female</td>\n",
       "      <td>100.0</td>\n",
       "      <td>Strong</td>\n",
       "    </tr>\n",
       "  </tbody>\n",
       "</table>\n",
       "<p>80 rows × 4 columns</p>\n",
       "</div>"
      ],
      "text/plain": [
       "    age  gender  fever   cough\n",
       "55   81  Female  101.0    Mild\n",
       "88    5  Female  100.0    Mild\n",
       "26   19  Female  100.0    Mild\n",
       "42   27    Male  100.0    Mild\n",
       "69   73  Female  103.0    Mild\n",
       "..  ...     ...    ...     ...\n",
       "60   24  Female  102.0  Strong\n",
       "71   75  Female  104.0  Strong\n",
       "14   51    Male  104.0    Mild\n",
       "92   82  Female  102.0  Strong\n",
       "51   11  Female  100.0  Strong\n",
       "\n",
       "[80 rows x 4 columns]"
      ]
     },
     "execution_count": 27,
     "metadata": {},
     "output_type": "execute_result"
    }
   ],
   "source": [
    "x_train"
   ]
  },
  {
   "cell_type": "code",
   "execution_count": 28,
   "metadata": {},
   "outputs": [
    {
     "data": {
      "text/plain": [
       "array([[101.,   0.,   0.,  81.],\n",
       "       [100.,   0.,   0.,   5.],\n",
       "       [100.,   0.,   0.,  19.],\n",
       "       [100.,   0.,   1.,  27.],\n",
       "       [103.,   0.,   0.,  73.],\n",
       "       [103.,   1.,   1.,  70.],\n",
       "       [102.,   0.,   0.,  49.],\n",
       "       [101.,   1.,   0.,  51.],\n",
       "       [101.,   0.,   0.,  64.],\n",
       "       [101.,   0.,   0.,  83.],\n",
       "       [ 98.,   0.,   0.,  65.],\n",
       "       [104.,   0.,   0.,  18.],\n",
       "       [103.,   0.,   0.,  16.],\n",
       "       [104.,   0.,   1.,  16.],\n",
       "       [100.,   0.,   1.,  27.],\n",
       "       [101.,   0.,   0.,  84.],\n",
       "       [104.,   0.,   1.,  51.],\n",
       "       [102.,   0.,   0.,  69.],\n",
       "       [102.,   1.,   0.,  82.],\n",
       "       [103.,   0.,   0.,  69.],\n",
       "       [104.,   0.,   1.,  44.],\n",
       "       [102.,   0.,   1.,  74.],\n",
       "       [101.,   1.,   0.,  20.],\n",
       "       [104.,   0.,   0.,  12.],\n",
       "       [102.,   1.,   0.,  33.],\n",
       "       [101.,   1.,   0.,  42.],\n",
       "       [ 99.,   0.,   1.,  65.],\n",
       "       [101.,   0.,   1.,  23.],\n",
       "       [104.,   1.,   0.,  56.],\n",
       "       [102.,   0.,   1.,  64.],\n",
       "       [100.,   1.,   0.,  13.],\n",
       "       [ 98.,   0.,   0.,  31.],\n",
       "       [ 98.,   1.,   0.,  40.],\n",
       "       [101.,   0.,   0.,  49.],\n",
       "       [100.,   1.,   0.,  19.],\n",
       "       [100.,   0.,   1.,  11.],\n",
       "       [101.,   1.,   1.,  14.],\n",
       "       [104.,   0.,   1.,  42.],\n",
       "       [101.,   0.,   0.,  38.],\n",
       "       [103.,   1.,   1.,  46.],\n",
       "       [101.,   1.,   1.,  71.],\n",
       "       [ 98.,   1.,   0.,  10.],\n",
       "       [ 99.,   0.,   0.,  60.],\n",
       "       [ 99.,   0.,   0.,  22.],\n",
       "       [101.,   0.,   1.,  19.],\n",
       "       [ 99.,   0.,   1.,  65.],\n",
       "       [101.,   0.,   0.,  19.],\n",
       "       [104.,   1.,   0.,  54.],\n",
       "       [ 98.,   1.,   0.,  81.],\n",
       "       [101.,   0.,   0.,  20.],\n",
       "       [103.,   0.,   0.,  48.],\n",
       "       [101.,   0.,   1.,  82.],\n",
       "       [ 98.,   1.,   1.,  23.],\n",
       "       [ 99.,   1.,   1.,  66.],\n",
       "       [ 98.,   1.,   0.,   5.],\n",
       "       [ 99.,   1.,   0.,  49.],\n",
       "       [102.,   0.,   1.,   5.],\n",
       "       [101.,   1.,   0.,  34.],\n",
       "       [101.,   1.,   1.,  79.],\n",
       "       [104.,   0.,   0.,   6.],\n",
       "       [100.,   0.,   1.,  10.],\n",
       "       [ 98.,   1.,   0.,  69.],\n",
       "       [100.,   0.,   1.,  55.],\n",
       "       [101.,   1.,   0.,  34.],\n",
       "       [100.,   0.,   1.,  27.],\n",
       "       [100.,   1.,   0.,  47.],\n",
       "       [ 98.,   0.,   1.,  73.],\n",
       "       [101.,   0.,   1.,  42.],\n",
       "       [ 98.,   0.,   0.,  80.],\n",
       "       [101.,   1.,   1.,  47.],\n",
       "       [101.,   0.,   1.,  38.],\n",
       "       [104.,   1.,   0.,  34.],\n",
       "       [104.,   0.,   1.,  25.],\n",
       "       [ 98.,   0.,   1.,  24.],\n",
       "       [ 98.,   1.,   1.,  12.],\n",
       "       [102.,   1.,   0.,  24.],\n",
       "       [104.,   1.,   0.,  75.],\n",
       "       [104.,   0.,   1.,  51.],\n",
       "       [102.,   1.,   0.,  82.],\n",
       "       [100.,   1.,   0.,  11.]])"
      ]
     },
     "execution_count": 28,
     "metadata": {},
     "output_type": "execute_result"
    }
   ],
   "source": [
    "transformer.fit_transform(x_train)"
   ]
  },
  {
   "cell_type": "code",
   "execution_count": 29,
   "metadata": {},
   "outputs": [
    {
     "data": {
      "text/plain": [
       "array([[104.,   0.,   0.,  17.],\n",
       "       [ 98.,   0.,   1.,  83.],\n",
       "       [101.,   1.,   0.,  68.],\n",
       "       [ 99.,   0.,   1.,  72.],\n",
       "       [102.,   1.,   1.,  20.],\n",
       "       [103.,   0.,   0.,  50.],\n",
       "       [ 98.,   1.,   0.,  71.],\n",
       "       [ 99.,   0.,   0.,  14.],\n",
       "       [101.,   0.,   0.,  75.],\n",
       "       [103.,   0.,   1.,  60.],\n",
       "       [ 98.,   0.,   0.,  64.],\n",
       "       [101.,   0.,   1.,  15.],\n",
       "       [ 98.,   1.,   1.,  34.],\n",
       "       [ 98.,   0.,   0.,  26.],\n",
       "       [ 99.,   1.,   0.,  59.],\n",
       "       [101.,   0.,   0.,  65.],\n",
       "       [100.,   0.,   1.,  80.],\n",
       "       [101.,   0.,   0.,   8.],\n",
       "       [ 99.,   1.,   0.,  25.],\n",
       "       [103.,   0.,   1.,  83.]])"
      ]
     },
     "execution_count": 29,
     "metadata": {},
     "output_type": "execute_result"
    }
   ],
   "source": [
    "transformer.transform(x_test)"
   ]
  },
  {
   "cell_type": "code",
   "execution_count": null,
   "metadata": {},
   "outputs": [],
   "source": []
  },
  {
   "cell_type": "code",
   "execution_count": null,
   "metadata": {},
   "outputs": [],
   "source": []
  },
  {
   "cell_type": "code",
   "execution_count": null,
   "metadata": {},
   "outputs": [],
   "source": []
  },
  {
   "cell_type": "code",
   "execution_count": null,
   "metadata": {},
   "outputs": [],
   "source": []
  }
 ],
 "metadata": {
  "kernelspec": {
   "display_name": "Python 3",
   "language": "python",
   "name": "python3"
  },
  "language_info": {
   "codemirror_mode": {
    "name": "ipython",
    "version": 3
   },
   "file_extension": ".py",
   "mimetype": "text/x-python",
   "name": "python",
   "nbconvert_exporter": "python",
   "pygments_lexer": "ipython3",
   "version": "3.12.3"
  }
 },
 "nbformat": 4,
 "nbformat_minor": 2
}
